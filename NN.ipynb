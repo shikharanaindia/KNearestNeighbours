{
 "cells": [
  {
   "cell_type": "markdown",
   "metadata": {},
   "source": [
    "# ASSIGNMENT - 1 : FOR K = 1, K = 3 and K = K NEAREST NEIGHBOURS"
   ]
  },
  {
   "cell_type": "code",
   "execution_count": 29,
   "metadata": {},
   "outputs": [],
   "source": [
    "import numpy as np \n",
    "from sklearn.model_selection import train_test_split\n",
    "import matplotlib.pyplot as plt\n",
    "from sklearn.datasets import load_iris\n",
    "iris = load_iris()"
   ]
  },
  {
   "cell_type": "markdown",
   "metadata": {},
   "source": [
    "Get Data from stored .txt file - for Ionosphere"
   ]
  },
  {
   "cell_type": "code",
   "execution_count": 30,
   "metadata": {},
   "outputs": [],
   "source": [
    "X = np.genfromtxt(\"ionosphere.txt\", delimiter=\",\", usecols=np.arange(34))\n",
    "y = np.genfromtxt(\"ionosphere.txt\", delimiter=\",\", usecols=34, dtype='int')"
   ]
  },
  {
   "cell_type": "markdown",
   "metadata": {},
   "source": [
    "DATA SPLIT - Both IRIS and IONOSPHERE"
   ]
  },
  {
   "cell_type": "code",
   "execution_count": 31,
   "metadata": {},
   "outputs": [],
   "source": [
    "X_train_iris, X_test_iris, y_train_iris, y_test_iris = train_test_split(iris['data'],iris['target'],random_state=0)\n",
    "X_train_iono, X_test_iono, y_train_iono, y_test_iono = train_test_split(X, y, test_size = 0.2, random_state = 0)"
   ]
  },
  {
   "cell_type": "markdown",
   "metadata": {},
   "source": [
    "# Function (PREDICTK1IONO) to CALCULATE - FOR IONOSPHERE - FOR K=1 NEIGHBOUR \n",
    "# 1. EUCLIDEAN DISTANCE\n",
    "# 2. SORTING OF EUCLIDEAN DISTANCE USING MANUAL CODING FOR BUBBLE SORT AND NO INBUILT FUNCTION\n",
    "# 3. PREDICT THE LABEL  "
   ]
  },
  {
   "cell_type": "code",
   "execution_count": 32,
   "metadata": {},
   "outputs": [],
   "source": [
    "def predictk1iono(X_train, y_train, X_test):\n",
    "    eucl_distance = []\n",
    "    pred_train = []\n",
    "\n",
    "# EUCLIDEAN DISTANCE CALCULATION\n",
    "\n",
    "    for i in range(len(X_train)):\n",
    "        distance = np.sqrt(np.sum(np.square(X_test - X_train[i, :])))\n",
    "        eucl_distance.append([distance, i])\n",
    "\n",
    "# DISTANCE SORTING\n",
    "\n",
    "    for i in range(len(eucl_distance)):\n",
    "        for j in range(len(eucl_distance)-1, i, -1):\n",
    "            if (eucl_distance[j][0] < eucl_distance[j - 1][0]):\n",
    "                temp = eucl_distance[j]\n",
    "                eucl_distance[j] = eucl_distance[j-1]\n",
    "                eucl_distance[j-1] = temp\n",
    "\n",
    "# PREDICTION\n",
    "\n",
    "        index = eucl_distance[0][1]\n",
    "        pred_train.append(y_train[index])\n",
    "    \n",
    "    return(max(set(pred_train), key = pred_train.count))"
   ]
  },
  {
   "cell_type": "code",
   "execution_count": 33,
   "metadata": {},
   "outputs": [
    {
     "name": "stdout",
     "output_type": "stream",
     "text": [
      "The percentage error rate at k = 1 is 14.084507042253522 percent\n"
     ]
    }
   ],
   "source": [
    "# MAIN METHOD TO CALL PREDICTK1IONO FUNCTION\n",
    "\n",
    "prediction_iono = []\n",
    "for i in range(len(X_test_iono)):\n",
    "    prediction_iono.append(predictk1iono(X_train_iono,y_train_iono,X_test_iono[i,:]))\n",
    "    \n",
    "prediction_iono = np.array(prediction_iono)\n",
    "\n",
    "# ERROR RATE AND PERCENTAGE CALCULATION\n",
    "\n",
    "error_rate = np.mean(prediction_iono != y_test_iono)\n",
    "percentage_error_rate = error_rate*100\n",
    "print('The percentage error rate at k = 1 is',percentage_error_rate,'percent')"
   ]
  },
  {
   "cell_type": "markdown",
   "metadata": {},
   "source": [
    "# Function (PREDICTK1IRIS) to CALCULATE - FOR IRIS - FOR K=1 NEIGHBOUR \n",
    "# 1. EUCLIDEAN DISTANCE\n",
    "# 2. SORTING OF EUCLIDEAN DISTANCE USING MANUAL CODING FOR BUBBLE SORT AND NO INBUILT FUNCTION\n",
    "# 3. PREDICT THE LABEL"
   ]
  },
  {
   "cell_type": "code",
   "execution_count": 34,
   "metadata": {},
   "outputs": [],
   "source": [
    "def predictk1iris(X_train, y_train, X_test):\n",
    "    eucl_distance = []\n",
    "    pred_train = []\n",
    "\n",
    "# EUCLIDEAN DISTANCE CALCULATION\n",
    "\n",
    "    for i in range(len(X_train)):\n",
    "        distance = np.sqrt(np.sum(np.square(X_test - X_train[i, :])))\n",
    "        eucl_distance.append([distance, i])\n",
    "\n",
    "# DISTANCE SORTING\n",
    "\n",
    "    for i in range(len(eucl_distance)):\n",
    "        for j in range(len(eucl_distance)-1, i, -1):\n",
    "            if (eucl_distance[j][0] < eucl_distance[j - 1][0]):\n",
    "                temp = eucl_distance[j]\n",
    "                eucl_distance[j] = eucl_distance[j-1]\n",
    "                eucl_distance[j-1] = temp\n",
    "\n",
    "# PREDICTION\n",
    "\n",
    "        index = eucl_distance[0][1]\n",
    "        pred_train.append(y_train[index])\n",
    "    \n",
    "    return(max(set(pred_train), key = pred_train.count))"
   ]
  },
  {
   "cell_type": "code",
   "execution_count": 35,
   "metadata": {},
   "outputs": [
    {
     "name": "stdout",
     "output_type": "stream",
     "text": [
      "The percentage error rate at k = 1 is 2.631578947368421 percent\n"
     ]
    }
   ],
   "source": [
    "# MAIN METHOD TO CALL PREDICTK1IRIS FUNCTION\n",
    "\n",
    "prediction_iris = []\n",
    "for i in range(len(X_test_iris)):\n",
    "    prediction_iris.append(predictk1iris(X_train_iris,y_train_iris,X_test_iris[i,:]))\n",
    "    \n",
    "prediction_iris = np.array(prediction_iris)\n",
    "\n",
    "# ERROR RATE AND PERCENTAGE CALCULATION\n",
    "\n",
    "error_rate = np.mean(prediction_iris != y_test_iris)\n",
    "percentage_error_rate = error_rate*100\n",
    "print('The percentage error rate at k = 1 is',percentage_error_rate,'percent')"
   ]
  },
  {
   "cell_type": "markdown",
   "metadata": {},
   "source": [
    "# Function (PREDICTK3IONO) to CALCULATE - FOR IONOSPHERE - FOR K=3 NEIGHBOUR \n",
    "# 1. EUCLIDEAN DISTANCE\n",
    "# 2. SORTING OF EUCLIDEAN DISTANCE USING MANUAL CODING FOR BUBBLE SORT AND NO INBUILT FUNCTION\n",
    "# 3. PREDICT THE LABEL"
   ]
  },
  {
   "cell_type": "code",
   "execution_count": 36,
   "metadata": {},
   "outputs": [],
   "source": [
    "def predictk3iono(X_train, y_train, X_test):\n",
    "    eucl_distance = []\n",
    "    pred_train = []\n",
    "\n",
    "# EUCLIDEAN DISTANCE CALCULATION FOR K =3\n",
    "\n",
    "    for i in range(len(X_train)):\n",
    "        distance = np.sqrt(np.sum(np.square(X_test - X_train[i, :])))\n",
    "        eucl_distance.append([distance, i])\n",
    "\n",
    "# DISTANCE SORTING\n",
    "\n",
    "    for i in range(len(eucl_distance)):\n",
    "        for j in range(len(eucl_distance)-1, i, -1):\n",
    "            if (eucl_distance[j][0] < eucl_distance[j - 1][0]):\n",
    "                temp = eucl_distance[j]\n",
    "                eucl_distance[j] = eucl_distance[j-1]\n",
    "                eucl_distance[j-1] = temp\n",
    "\n",
    "# PREDICTION FOR K=3\n",
    "\n",
    "    for i in range(3):\n",
    "        index = eucl_distance[i][1]\n",
    "        pred_train.append(y_train[index])\n",
    "    \n",
    "    return(max(set(pred_train), key = pred_train.count))"
   ]
  },
  {
   "cell_type": "code",
   "execution_count": 37,
   "metadata": {},
   "outputs": [
    {
     "name": "stdout",
     "output_type": "stream",
     "text": [
      "The percentage error rate at k = 3 is 11.267605633802818 percent\n"
     ]
    }
   ],
   "source": [
    "# MAIN METHOD TO CALL PREDICTK3IONO FUNCTION\n",
    "\n",
    "prediction_iono = []\n",
    "for i in range(len(X_test_iono)):\n",
    "    prediction_iono.append(predictk3iono(X_train_iono,y_train_iono,X_test_iono[i,:]))\n",
    "    \n",
    "prediction_iono = np.array(prediction_iono)\n",
    "\n",
    "# ERROR RATE AND PERCENTAGE CALCULATION\n",
    "\n",
    "error_rate = np.mean(prediction_iono != y_test_iono)\n",
    "percentage_error_rate = error_rate*100\n",
    "print('The percentage error rate at k = 3 is',percentage_error_rate,'percent')"
   ]
  },
  {
   "cell_type": "markdown",
   "metadata": {},
   "source": [
    "# Function (PREDICTK3IRIS) to CALCULATE - FOR IRIS - FOR K=3 NEIGHBOUR \n",
    "# 1. EUCLIDEAN DISTANCE\n",
    "# 2. SORTING OF EUCLIDEAN DISTANCE USING MANUAL CODING FOR BUBBLE SORT AND NO INBUILT FUNCTION\n",
    "# 3. PREDICT THE LABEL"
   ]
  },
  {
   "cell_type": "code",
   "execution_count": 38,
   "metadata": {},
   "outputs": [],
   "source": [
    "def predictk3iris(X_train, y_train, X_test):\n",
    "    eucl_distance = []\n",
    "    pred_train = []\n",
    "\n",
    "# EUCLIDEAN DISTANCE CALCULATION\n",
    "\n",
    "    for i in range(len(X_train)):\n",
    "        distance = np.sqrt(np.sum(np.square(X_test - X_train[i, :])))\n",
    "        eucl_distance.append([distance, i])\n",
    "\n",
    "# DISTANCE SORTING\n",
    "\n",
    "    for i in range(len(eucl_distance)):\n",
    "        for j in range(len(eucl_distance)-1, i, -1):\n",
    "            if (eucl_distance[j][0] < eucl_distance[j - 1][0]):\n",
    "                temp = eucl_distance[j]\n",
    "                eucl_distance[j] = eucl_distance[j-1]\n",
    "                eucl_distance[j-1] = temp\n",
    "\n",
    "# PREDICTION FOR K = 3\n",
    "\n",
    "    for i in range(3):\n",
    "        index = eucl_distance[i][1]\n",
    "        pred_train.append(y_train[index])\n",
    "            \n",
    "    return(max(set(pred_train), key = pred_train.count))"
   ]
  },
  {
   "cell_type": "code",
   "execution_count": 39,
   "metadata": {},
   "outputs": [
    {
     "name": "stdout",
     "output_type": "stream",
     "text": [
      "The percentage error rate at k = is 2.631578947368421 percent\n"
     ]
    }
   ],
   "source": [
    "# MAIN METHOD TO CALL PREDICTK3IRIS FUNCTION\n",
    "\n",
    "prediction_iris = []\n",
    "for i in range(len(X_test_iris)):\n",
    "    prediction_iris.append(predictk3iris(X_train_iris,y_train_iris,X_test_iris[i,:]))\n",
    "    \n",
    "prediction_iris = np.array(prediction_iris)\n",
    "\n",
    "# ERROR RATE AND PERCENTAGE CALCULATION\n",
    "\n",
    "error_rate = np.mean(prediction_iris != y_test_iris)\n",
    "percentage_error_rate = error_rate*100\n",
    "print('The percentage error rate at k = is',percentage_error_rate,'percent')"
   ]
  },
  {
   "cell_type": "markdown",
   "metadata": {},
   "source": [
    "# Function (PREDICT) to CALCULATE - FOR IONOSPHERE - FOR ANY VALUE OF K NEIGHBOURS\n",
    "# 1. EUCLIDEAN DISTANCE\n",
    "# 2. SORTING OF EUCLIDEAN DISTANCE USING MANUAL CODING FOR BUBBLE SORT AND NO INBUILT FUNCTION\n"
   ]
  },
  {
   "cell_type": "markdown",
   "metadata": {},
   "source": [
    "# 3. PREDICT THE LABEL - BREAKING TIES -\n",
    "\n",
    "# PREDICTION IS DONE CONSIDERING BELOW POINTS\n",
    "#      a. THERE COULD BE A POSSIBILITY OF GETTING SAME NUMBER OF LABELS AGAINST A TEST SAMPLE\n",
    "#      b. FOR EX - WHEN WE ARE DOING K = 8, THERE COULD BE A CHANCE OF GETTING '4' NUMBER OF GOOD LABEL, '4' NUMBER OF BAD LABEL \n",
    "#      c. IN SUCH CASES, WE CHOOSE A LABEL THAT HAS LEAST NEIGHBOUR DISTANCE. SO OUT OF GOOD AND BAD LABELS, WE CHOOSE ONE WHICH IS NEAREST TO TEST SAMPLE.\n",
    "# 4. HENCE PREDICTION IS BEING DONE CONSIDERING ALL ABOVE POINTS, FOR WHICH WE USE FOR LOOP AND IF ELSE CONDITIONS AND MAINTAIN DATA ACCORDINGLY"
   ]
  },
  {
   "cell_type": "code",
   "execution_count": 40,
   "metadata": {},
   "outputs": [],
   "source": [
    "def predictkiono(X_train, y_train, X_test,k):\n",
    "    eucl_distance = []\n",
    "    pred_train = []\n",
    "    count_bad = 0\n",
    "    count_good = 0\n",
    "\n",
    "# EUCLIDEAN DISTANCE CALCULATION\n",
    "\n",
    "    for i in range(len(X_train)):\n",
    "        distance = np.sqrt(np.sum(np.square(X_test - X_train[i, :])))\n",
    "        eucl_distance.append([distance, i])\n",
    "\n",
    "# DISTANCE SORTING\n",
    "\n",
    "    for i in range(len(eucl_distance)):\n",
    "        for j in range(len(eucl_distance)-1, i, -1):\n",
    "            if (eucl_distance[j][0] < eucl_distance[j - 1][0]):\n",
    "                temp = eucl_distance[j]\n",
    "                eucl_distance[j] = eucl_distance[j-1]\n",
    "                eucl_distance[j-1] = temp\n",
    "\n",
    "# PREDICTION\n",
    "\n",
    "    for i in range(k):\n",
    "        index = eucl_distance[i][1]\n",
    "        if(y_train[index] == -1):\n",
    "            count_bad = count_bad+1\n",
    "        else:\n",
    "            count_good = count_good+1\n",
    "\n",
    "    if count_bad > count_good:\n",
    "        pred = -1\n",
    "        return pred\n",
    "    elif count_bad == count_good:\n",
    "        index1 = eucl_distance[0][1]\n",
    "        pred = y_train_iono[index1]\n",
    "        return pred\n",
    "    else:\n",
    "        pred = 1 \n",
    "        return pred"
   ]
  },
  {
   "cell_type": "code",
   "execution_count": 41,
   "metadata": {},
   "outputs": [
    {
     "name": "stdout",
     "output_type": "stream",
     "text": [
      "Enter the value of k: 20\n",
      "The percentage error rate at k = 20 is 12.676056338028168 percent\n"
     ]
    }
   ],
   "source": [
    "# MAIN METHOD TO CALL PREDICTKIONO FUNCTION ASKING FOR USER INPUT FOR K\n",
    "\n",
    "k = int(input('Enter the value of k: '))\n",
    "prediction_iono = []\n",
    "for i in range(len(X_test_iono)):\n",
    "    prediction_iono.append(predictkiono(X_train_iono,y_train_iono,X_test_iono[i,:],k))\n",
    "    \n",
    "prediction_iono = np.array(prediction_iono)\n",
    "\n",
    "# ERROR RATE AND PERCENTAGE CALCULATION\n",
    "\n",
    "error_rate = np.mean(prediction_iono != y_test_iono)\n",
    "percentage_error_rate = error_rate*100\n",
    "print('The percentage error rate at k =',k,'is',percentage_error_rate,'percent')"
   ]
  },
  {
   "cell_type": "markdown",
   "metadata": {},
   "source": [
    "# Function (PREDICT) to CALCULATE - FOR IRIS - FOR ANY VALUE OF K NEIGHBOURS\n",
    "# 1. EUCLIDEAN DISTANCE\n",
    "# 2. SORTING OF EUCLIDEAN DISTANCE USING MANUAL CODING FOR BUBBLE SORT AND NO INBUILT FUNCTION\n",
    "# 3. PREDICT THE LABEL - BREAKING TIES -\n",
    "\n",
    "# PREDICTION IS DONE CONSIDERING BELOW POINTS\n",
    "#      a. THERE COULD BE A POSSIBILITY OF GETTING SAME NUMBER OF LABELS AGAINST A TEST SAMPLE\n",
    "#      b. FOR EX - WHEN WE ARE DOING K = 9, THERE COULD BE A CHANCE OF GETTING '1' NUMBER OF SETOSA LABEL, '4' NUMBER OF VERSICOLOR LABEL AND '4' NUMBER OF VIRGINICA LABEL\n",
    "#      C. ALSO, IT COULD BE POSSIBLE TO GET EQUAL NUMBER OF ALL THREE, FOR EX - K=9, '3' SETOSA LABEL, '3' VERSICOLOR AND '3' VIRGINICA\n",
    "#      D. IN SUCH CASES, WE CHOOSE A LABEL THAT HAS LEAST NEIGHBOUR DISTANCE. SO OUT OF VERSICOLOR AND VIRGINICA (ABOVE POINT b.), WE CHOOSE ONE WHICH IS NEAREST TO TEST SAMPLE.\n",
    "# 4. HENCE PREDICTION IS BEING DONE CONSIDERING ALL ABOVE POINTS, FOR WHICH WE INTRODUCE A DICTIONARY AND MAINTAIN DATA ACCORDINGLY"
   ]
  },
  {
   "cell_type": "code",
   "execution_count": 42,
   "metadata": {},
   "outputs": [],
   "source": [
    "def predictkiris(X_train, y_train, X_test,k):\n",
    "    eucl_distance = []\n",
    "    pred_train = []\n",
    "\n",
    "# EUCLIDEAN DISTANCE CALCULATION\n",
    "\n",
    "    for i in range(len(X_train)):\n",
    "        distance = np.sqrt(np.sum(np.square(X_test - X_train[i, :])))\n",
    "        eucl_distance.append([distance, i])\n",
    "\n",
    "# DISTANCE SORTING\n",
    "\n",
    "    for i in range(len(eucl_distance)):\n",
    "        for j in range(len(eucl_distance)-1, i, -1):\n",
    "            if (eucl_distance[j][0] < eucl_distance[j - 1][0]):\n",
    "                temp = eucl_distance[j]\n",
    "                eucl_distance[j] = eucl_distance[j-1]\n",
    "                eucl_distance[j-1] = temp\n",
    "\n",
    "# PREDICTION\n",
    "\n",
    "    for i in range(k):\n",
    "        index = eucl_distance[i][1]\n",
    "        pred_train.append(y_train[index])\n",
    "    \n",
    "    dict = {'setosa':[],'versicolor':[],'virginica':[]}\n",
    "    \n",
    "    for i in range(k):\n",
    "        if pred_train[i] == 0:\n",
    "            dict['setosa'].append(eucl_distance[i][0])\n",
    "        elif pred_train[i] == 1:\n",
    "            dict['versicolor'].append(eucl_distance[i][0])\n",
    "        else:\n",
    "            dict['virginica'].append(eucl_distance[i][0])\n",
    "    \n",
    "    length_setosa = len(dict['setosa'])\n",
    "    length_versicolor = len(dict['versicolor'])\n",
    "    length_virginica = len(dict['virginica'])\n",
    "    l_dist_setosa = dict['setosa']\n",
    "    l_dist_versicolor = dict['versicolor']\n",
    "    l_dist_virginica = dict['virginica']\n",
    "    \n",
    "    l_dist_setosa.sort()\n",
    "    l_dist_versicolor.sort()\n",
    "    l_dist_virginica.sort()\n",
    "    \n",
    "    dict_length = {'setosa':length_setosa,'versicolor':length_versicolor,'virginica':length_virginica}\n",
    "    dict_sort_desc = sorted(dict_length,key=dict_length.get,reverse=True)\n",
    "    \n",
    "    if length_setosa == length_versicolor and length_setosa == length_virginica:\n",
    "        if l_dist_setosa[0] < l_dist_versicolor[0]:\n",
    "            if l_dist_setosa[0] < l_dist_virginica[0]:\n",
    "                return 0\n",
    "            else:\n",
    "                return 2\n",
    "        elif l_dist_versicolor[0] < l_dist_virginica[0]:\n",
    "            return 1\n",
    "        else:\n",
    "            return 2\n",
    "    elif length_setosa == length_versicolor:\n",
    "        if dict_sort_desc[0] == 'setosa':\n",
    "            if l_dist_setosa[0] < l_dist_versicolor[0]:\n",
    "                return 0\n",
    "            else:\n",
    "                return 1\n",
    "        else:\n",
    "            return 2\n",
    "    elif length_setosa == length_virginica:\n",
    "        if dict_sort_desc[0] == 'setosa':\n",
    "            if l_dist_setosa[0] < l_dist_virginica[0]:\n",
    "                return 0\n",
    "            else:\n",
    "                return 2\n",
    "        else:\n",
    "            return 1\n",
    "    elif length_versicolor == length_virginica:\n",
    "        if dict_sort_desc[0] == 'versicolor':\n",
    "            if l_dist_versicolor[0] < l_dist_virginica[0]:\n",
    "                return 1\n",
    "            else:\n",
    "                return 2\n",
    "        else:\n",
    "            return 0\n",
    "    else:\n",
    "        most = dict_sort_desc[0]\n",
    "        \n",
    "    \n",
    "    if most == 'setosa':\n",
    "        return 0\n",
    "    elif most == 'versicolor':\n",
    "        return 1\n",
    "    else:\n",
    "        return 2"
   ]
  },
  {
   "cell_type": "code",
   "execution_count": 43,
   "metadata": {},
   "outputs": [
    {
     "name": "stdout",
     "output_type": "stream",
     "text": [
      "Enter the value of k: 20\n",
      "The percentage error rate at k = 20 is 2.631578947368421 percent\n"
     ]
    }
   ],
   "source": [
    "# MAIN METHOD TO CALL PREDICTKIRIS FUNCTION\n",
    "\n",
    "k = int(input('Enter the value of k: '))\n",
    "prediction_iris = []\n",
    "for i in range(len(X_test_iris)):\n",
    "    prediction_iris.append(predictkiris(X_train_iris,y_train_iris,X_test_iris[i,:],k))\n",
    "    \n",
    "prediction_iris = np.array(prediction_iris)\n",
    "\n",
    "# ERROR RATE AND PERCENTAGE CALCULATION\n",
    "\n",
    "error_rate = np.mean(prediction_iris != y_test_iris)\n",
    "percentage_error_rate = error_rate*100\n",
    "print('The percentage error rate at k =',k,'is',percentage_error_rate,'percent')"
   ]
  },
  {
   "cell_type": "code",
   "execution_count": null,
   "metadata": {},
   "outputs": [],
   "source": []
  }
 ],
 "metadata": {
  "kernelspec": {
   "display_name": "Python 3",
   "language": "python",
   "name": "python3"
  },
  "language_info": {
   "codemirror_mode": {
    "name": "ipython",
    "version": 3
   },
   "file_extension": ".py",
   "mimetype": "text/x-python",
   "name": "python",
   "nbconvert_exporter": "python",
   "pygments_lexer": "ipython3",
   "version": "3.6.5"
  }
 },
 "nbformat": 4,
 "nbformat_minor": 2
}
